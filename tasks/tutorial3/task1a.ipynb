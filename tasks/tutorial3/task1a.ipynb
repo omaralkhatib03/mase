{
 "cells": [
  {
   "cell_type": "markdown",
   "metadata": {},
   "source": [
    "# Implementation Tasks"
   ]
  },
  {
   "cell_type": "markdown",
   "metadata": {},
   "source": [
    "## Task 1"
   ]
  },
  {
   "cell_type": "code",
   "execution_count": 1,
   "metadata": {},
   "outputs": [
    {
     "name": "stderr",
     "output_type": "stream",
     "text": [
      "/rds/general/user/oa321/home/miniforge3/envs/mase_env/lib/python3.11/site-packages/tqdm/auto.py:21: TqdmWarning: IProgress not found. Please update jupyter and ipywidgets. See https://ipywidgets.readthedocs.io/en/stable/user_install.html\n",
      "  from .autonotebook import tqdm as notebook_tqdm\n"
     ]
    }
   ],
   "source": [
    "from pathlib import Path\n",
    "from chop import MaseGraph\n",
    "import pandas as pd\n",
    "\n",
    "tokenizer_checkpoint = \"bert-base-uncased\"\n",
    "dataset_name = \"imdb\""
   ]
  },
  {
   "cell_type": "code",
   "execution_count": 2,
   "metadata": {},
   "outputs": [
    {
     "name": "stderr",
     "output_type": "stream",
     "text": [
      "/rds/general/user/oa321/home/mase/src/chop/ir/graph/mase_graph.py:380: FutureWarning: You are using `torch.load` with `weights_only=False` (the current default value), which uses the default pickle module implicitly. It is possible to construct malicious pickle data which will execute arbitrary code during unpickling (See https://github.com/pytorch/pytorch/blob/main/SECURITY.md#untrusted-models for more details). In a future release, the default value for `weights_only` will be flipped to `True`. This limits the functions that could be executed during unpickling. Arbitrary objects will no longer be allowed to be loaded via this mode unless they are explicitly allowlisted by the user via `torch.serialization.add_safe_globals`. We recommend you start setting `weights_only=True` for any use case where you don't have full control of the loaded file. Please open an issue on GitHub for any issues related to this experimental feature.\n",
      "  loaded_model = torch.load(f)\n",
      "\u001b[33mWARNING \u001b[0m \u001b[34mNode finfo not found in loaded metadata.\u001b[0m\n",
      "\u001b[33mWARNING \u001b[0m \u001b[34mNode getattr_2 not found in loaded metadata.\u001b[0m\n"
     ]
    }
   ],
   "source": [
    "mg = MaseGraph.from_checkpoint(f\"{Path.home()}/mase/tasks/tutorial2/tutorial_2_lora\")"
   ]
  },
  {
   "cell_type": "code",
   "execution_count": 3,
   "metadata": {},
   "outputs": [
    {
     "name": "stderr",
     "output_type": "stream",
     "text": [
      "\u001b[32mINFO    \u001b[0m \u001b[34mTokenizing dataset imdb with AutoTokenizer for bert-base-uncased.\u001b[0m\n",
      "/rds/general/user/oa321/home/mase/src/chop/tools/huggingface.py:157: FutureWarning: `tokenizer` is deprecated and will be removed in version 5.0.0 for `Trainer.__init__`. Use `processing_class` instead.\n",
      "  trainer = Trainer(\n",
      "WARNING:accelerate.utils.other:Detected kernel version 4.18.0, which is below the recommended minimum of 5.5.0; this can cause the process to hang. It is recommended to upgrade the kernel to the minimum version or higher.\n"
     ]
    },
    {
     "data": {
      "text/html": [
       "\n",
       "    <div>\n",
       "      \n",
       "      <progress value='3125' max='3125' style='width:300px; height:20px; vertical-align: middle;'></progress>\n",
       "      [3125/3125 00:15]\n",
       "    </div>\n",
       "    "
      ],
      "text/plain": [
       "<IPython.core.display.HTML object>"
      ]
     },
     "metadata": {},
     "output_type": "display_data"
    }
   ],
   "source": [
    "from chop.tools import get_tokenized_dataset, get_trainer\n",
    "\n",
    "dataset, tokenizer = get_tokenized_dataset(\n",
    "    dataset=dataset_name,\n",
    "    checkpoint=tokenizer_checkpoint,\n",
    "    return_tokenizer=True\n",
    ")\n",
    "\n",
    "trainer = get_trainer(\n",
    "    model=mg.model,\n",
    "    tokenized_dataset=dataset,\n",
    "    tokenizer=tokenizer,\n",
    "    evaluate_metric=\"accuracy\",\n",
    ")\n",
    "\n",
    "baseline_res = trainer.evaluate()"
   ]
  },
  {
   "cell_type": "code",
   "execution_count": 8,
   "metadata": {},
   "outputs": [
    {
     "name": "stderr",
     "output_type": "stream",
     "text": [
      "/rds/general/user/oa321/home/mase/src/chop/ir/graph/mase_graph.py:380: FutureWarning: You are using `torch.load` with `weights_only=False` (the current default value), which uses the default pickle module implicitly. It is possible to construct malicious pickle data which will execute arbitrary code during unpickling (See https://github.com/pytorch/pytorch/blob/main/SECURITY.md#untrusted-models for more details). In a future release, the default value for `weights_only` will be flipped to `True`. This limits the functions that could be executed during unpickling. Arbitrary objects will no longer be allowed to be loaded via this mode unless they are explicitly allowlisted by the user via `torch.serialization.add_safe_globals`. We recommend you start setting `weights_only=True` for any use case where you don't have full control of the loaded file. Please open an issue on GitHub for any issues related to this experimental feature.\n",
      "  loaded_model = torch.load(f)\n",
      "\u001b[33mWARNING \u001b[0m \u001b[34mNode finfo not found in loaded metadata.\u001b[0m\n",
      "\u001b[33mWARNING \u001b[0m \u001b[34mNode getattr_2 not found in loaded metadata.\u001b[0m\n",
      "/rds/general/user/oa321/home/mase/src/chop/tools/huggingface.py:157: FutureWarning: `tokenizer` is deprecated and will be removed in version 5.0.0 for `Trainer.__init__`. Use `processing_class` instead.\n",
      "  trainer = Trainer(\n",
      "WARNING:accelerate.utils.other:Detected kernel version 4.18.0, which is below the recommended minimum of 5.5.0; this can cause the process to hang. It is recommended to upgrade the kernel to the minimum version or higher.\n"
     ]
    }
   ],
   "source": [
    "import chop.passes as passes\n",
    "\n",
    "qc = {\n",
    "    \"by\": \"type\",\n",
    "    \"default\": {\n",
    "        \"config\":\n",
    "        {\n",
    "            \"name\": None\n",
    "        }\n",
    "    },\n",
    "    \"linear\":{\n",
    "        \"config\":{\n",
    "            \"name\":\"integer\",\n",
    "            # Data\n",
    "            \"data_in_width\": 8,\n",
    "            \"data_in_frac_width\": 4,\n",
    "            # Weight\n",
    "            \"weight_width\": 8,\n",
    "            \"weight_frac_width\": 4,\n",
    "            # Bias\n",
    "            \"bias_width\": 8,\n",
    "            \"bias_frac_width\": 4,\n",
    "        }\n",
    "    }\n",
    "}\n",
    "\n",
    "mg = MaseGraph.from_checkpoint(f\"{Path.home()}/mase/tasks/tutorial2/tutorial_2_lora\")\n",
    "\n",
    "trainer = get_trainer(\n",
    "    model=mg.model,\n",
    "    tokenized_dataset=dataset,\n",
    "    tokenizer=tokenizer,\n",
    "    evaluate_metric=\"accuracy\",\n",
    ")\n",
    "\n",
    "mg, _ = passes.quantize_transform_pass(mg, pass_args=qc)"
   ]
  },
  {
   "cell_type": "code",
   "execution_count": 9,
   "metadata": {},
   "outputs": [
    {
     "data": {
      "text/html": [
       "\n",
       "    <div>\n",
       "      \n",
       "      <progress value='3' max='3125' style='width:300px; height:20px; vertical-align: middle;'></progress>\n",
       "      [   3/3125 00:00 < 00:25, 120.12 it/s]\n",
       "    </div>\n",
       "    "
      ],
      "text/plain": [
       "<IPython.core.display.HTML object>"
      ]
     },
     "metadata": {},
     "output_type": "display_data"
    },
    {
     "name": "stdout",
     "output_type": "stream",
     "text": [
      "0.82452\n"
     ]
    }
   ],
   "source": [
    "eval_results = trainer.evaluate()\n",
    "print(eval_results['eval_accuracy'])"
   ]
  },
  {
   "cell_type": "code",
   "execution_count": 10,
   "metadata": {},
   "outputs": [],
   "source": [
    "def search_fixed(qatOrPtq: bool) -> None:\n",
    "    mg = MaseGraph.from_checkpoint(f\"{Path.home()}/mase/tasks/tutorial2/tutorial_2_lora\")\n",
    "    frac_diff = [\"\" for i in range(0, 28)]\n",
    "    frac_diff_acc = [0 for i in range(0, 28)]\n",
    "    qc_template = qc\n",
    "\n",
    "    for i in range(4, 32):\n",
    "        qc_template[\"linear\"][\"config\"][\"bias_width\"] = i\n",
    "        qc_template[\"linear\"][\"config\"][\"data_in_width\"] = i\n",
    "        qc_template[\"linear\"][\"config\"][\"weight_width\"] = i\n",
    "\n",
    "        qc_template[\"linear\"][\"config\"][\"bias_frac_width\"] = i / 2\n",
    "        qc_template[\"linear\"][\"config\"][\"data_in_frac_width\"] = i / 2\n",
    "        qc_template[\"linear\"][\"config\"][\"weight_frac_width\"] = i / 2\n",
    "\n",
    "        qc_template['by'] = \"type\"\n",
    "        mg, _ = passes.quantize_transform_pass(mg, qc_template)\n",
    "        trainer = get_trainer(\n",
    "            model=mg.model,\n",
    "            tokenized_dataset=dataset,\n",
    "            tokenizer=tokenizer,\n",
    "            evaluate_metric=\"accuracy\",\n",
    "        )\n",
    "\n",
    "        if (qatOrPtq):\n",
    "            trainer.train()\n",
    "\n",
    "        eval_results = trainer.evaluate()\n",
    "        frac_diff[i-4] = eval_results\n",
    "        frac_diff_acc[i-4] = eval_results['eval_accuracy']\n",
    "\n",
    "    data = []\n",
    "\n",
    "    for i in range(4, 32):\n",
    "        data.append({\n",
    "            \"width\" : i,\n",
    "            \"accuracy\": frac_diff_acc[i-4]\n",
    "        })\n",
    "\n",
    "    df = pd.DataFrame(data)\n",
    "    df.to_csv(f\"{Path.home()}/mase/tasks/tutorial3/out_{'qat' if qatOrPtq else 'pqt'}.csv\", index=False)\n",
    "\n",
    "\n"
   ]
  },
  {
   "cell_type": "code",
   "execution_count": null,
   "metadata": {},
   "outputs": [],
   "source": [
    "# Commented out Just so I dont run them again by accident, uncomment to run the search\n",
    "# search_fixed(qatOrPtq=False)\n",
    "# search_fixed(qatOrPtq=True)"
   ]
  },
  {
   "cell_type": "code",
   "execution_count": 80,
   "metadata": {},
   "outputs": [],
   "source": [
    "import matplotlib.pyplot as plt\n",
    "\n",
    "\n",
    "df_pqt = pd.read_csv(f'{Path.home()}/mase/tasks/tutorial3/out_pqt.csv')\n",
    "df_qat = pd.read_csv(f'{Path.home()}/mase/tasks/tutorial3/out_qat.csv')"
   ]
  },
  {
   "cell_type": "code",
   "execution_count": 81,
   "metadata": {},
   "outputs": [
    {
     "data": {
      "image/png": "[encoded data removed]",
      "text/plain": [
       "<Figure size 640x480 with 1 Axes>"
      ]
     },
     "metadata": {},
     "output_type": "display_data"
    }
   ],
   "source": [
    "# Selecting 'Best' Model\n",
    "df_pqt['daccdw'] = abs(df_pqt['accuracy'].diff() / df_pqt['width'].diff())\n",
    "df_pqt.loc[df_pqt['daccdw'] == 0, 'daccdw'] = None\n",
    "df_pqt['modded'] = df_pqt['daccdw'] * (df_pqt['width'] - 4)\n",
    "df_qat['daccdw'] = abs(df_qat['accuracy'].diff() / df_qat['width'].diff())\n",
    "df_qat['modded'] = df_qat['daccdw'] * (df_qat['width'] - 4)\n",
    "\n",
    "min_qat_con = df_qat.loc[df_qat['modded'].idxmin()]\n",
    "min_pqt_con = df_pqt.loc[df_pqt['modded'].idxmin()]\n",
    "pqtOrQat = min_pqt_con['modded'] < min_qat_con['modded']\n",
    "best_model_con = min_pqt_con if pqtOrQat else min_qat_con\n",
    "\n",
    "# Optional Plot\n",
    "# plt.figure()\n",
    "# plt.scatter(x=df_pqt['width'], y=df_pqt['modded'], marker='x', s=20)\n",
    "# plt.scatter(x=df_qat['width'], y=df_qat['modded'], marker='x', s=20)\n",
    "# plt.axvline(x=best_model_con['width'], linestyle='-', linewidth=0.8)\n",
    "# plt.legend(['PQT', 'QAT', 'Best Model'])\n",
    "\n",
    "# Plot bits vs Accuracy\n",
    "fig_pqt = plt.figure()\n",
    "plt.axhline(y=baseline_res['eval_accuracy'] * 100, linestyle='--', linewidth=0.8)\n",
    "plt.axvline(x=best_model_con['width'], linestyle='-', linewidth=0.8)\n",
    "plt.scatter(x=df_pqt['width'], y=df_pqt['accuracy'] * 100, marker='x', s=20)\n",
    "plt.scatter(x=df_qat['width'], y=df_qat['accuracy'] * 100, marker='x', s=20)\n",
    "plt.legend(['Baseline', 'Best Model', 'PQT', 'QAT'])\n",
    "plt.xlabel('Fixed Point Width (bits)')\n",
    "plt.ylabel('Accuracy %')\n",
    "plt.title('Fixed Point Width vs Accuracy')\n",
    "plt.savefig(f'{Path.home()}/mase/tasks/tutorial3/fixed_point_explore')\n",
    "plt.show()\n"
   ]
  },
  {
   "cell_type": "code",
   "execution_count": 82,
   "metadata": {},
   "outputs": [
    {
     "name": "stderr",
     "output_type": "stream",
     "text": [
      "/rds/general/user/oa321/home/mase/src/chop/ir/graph/mase_graph.py:380: FutureWarning: You are using `torch.load` with `weights_only=False` (the current default value), which uses the default pickle module implicitly. It is possible to construct malicious pickle data which will execute arbitrary code during unpickling (See https://github.com/pytorch/pytorch/blob/main/SECURITY.md#untrusted-models for more details). In a future release, the default value for `weights_only` will be flipped to `True`. This limits the functions that could be executed during unpickling. Arbitrary objects will no longer be allowed to be loaded via this mode unless they are explicitly allowlisted by the user via `torch.serialization.add_safe_globals`. We recommend you start setting `weights_only=True` for any use case where you don't have full control of the loaded file. Please open an issue on GitHub for any issues related to this experimental feature.\n",
      "  loaded_model = torch.load(f)\n",
      "\u001b[33mWARNING \u001b[0m \u001b[34mNode finfo not found in loaded metadata.\u001b[0m\n",
      "\u001b[33mWARNING \u001b[0m \u001b[34mNode getattr_2 not found in loaded metadata.\u001b[0m\n",
      "/rds/general/user/oa321/home/mase/src/chop/tools/huggingface.py:157: FutureWarning: `tokenizer` is deprecated and will be removed in version 5.0.0 for `Trainer.__init__`. Use `processing_class` instead.\n",
      "  trainer = Trainer(\n",
      "WARNING:accelerate.utils.other:Detected kernel version 4.18.0, which is below the recommended minimum of 5.5.0; this can cause the process to hang. It is recommended to upgrade the kernel to the minimum version or higher.\n"
     ]
    },
    {
     "data": {
      "text/html": [
       "\n",
       "    <div>\n",
       "      \n",
       "      <progress value='3125' max='3125' style='width:300px; height:20px; vertical-align: middle;'></progress>\n",
       "      [3125/3125 00:23]\n",
       "    </div>\n",
       "    "
      ],
      "text/plain": [
       "<IPython.core.display.HTML object>"
      ]
     },
     "metadata": {},
     "output_type": "display_data"
    }
   ],
   "source": [
    "# Save Model\n",
    "mg = MaseGraph.from_checkpoint(f\"{Path.home()}/mase/tasks/tutorial2/tutorial_2_lora\")\n",
    "\n",
    "qc_template = qc\n",
    "qc_template[\"linear\"][\"config\"][\"bias_width\"] = best_model_con['width']\n",
    "qc_template[\"linear\"][\"config\"][\"data_in_width\"] = best_model_con['width']\n",
    "qc_template[\"linear\"][\"config\"][\"weight_width\"] = best_model_con['width']\n",
    "qc_template[\"linear\"][\"config\"][\"bias_frac_width\"] = best_model_con['width'] / 2\n",
    "qc_template[\"linear\"][\"config\"][\"data_in_frac_width\"] = best_model_con['width'] / 2\n",
    "qc_template[\"linear\"][\"config\"][\"weight_frac_width\"] = best_model_con['width'] / 2\n",
    "qc_template['by'] = \"type\"\n",
    "\n",
    "mg, _ = passes.quantize_transform_pass(mg, qc_template)\n",
    "trainer = get_trainer(\n",
    "    model=mg.model,\n",
    "    tokenized_dataset=dataset,\n",
    "    tokenizer=tokenizer,\n",
    "    evaluate_metric=\"accuracy\",\n",
    ")\n",
    "\n",
    "if (pqtOrQat):\n",
    "    trainer.train()\n",
    "\n",
    "eval_results = trainer.evaluate()"
   ]
  },
  {
   "cell_type": "code",
   "execution_count": 83,
   "metadata": {},
   "outputs": [
    {
     "name": "stdout",
     "output_type": "stream",
     "text": [
      "0.83312\n"
     ]
    }
   ],
   "source": [
    "print(eval_results['eval_accuracy'])"
   ]
  },
  {
   "cell_type": "code",
   "execution_count": 84,
   "metadata": {},
   "outputs": [
    {
     "name": "stderr",
     "output_type": "stream",
     "text": [
      "\u001b[32mINFO    \u001b[0m \u001b[34mExporting MaseGraph to /rds/general/user/oa321/home/mase/tasks/tutorial3/best_model.pt, /rds/general/user/oa321/home/mase/tasks/tutorial3/best_model.mz\u001b[0m\n",
      "\u001b[32mINFO    \u001b[0m \u001b[34mExporting GraphModule to /rds/general/user/oa321/home/mase/tasks/tutorial3/best_model.pt\u001b[0m\n",
      "\u001b[32mINFO    \u001b[0m \u001b[34mExporting MaseMetadata to /rds/general/user/oa321/home/mase/tasks/tutorial3/best_model.mz\u001b[0m\n"
     ]
    }
   ],
   "source": [
    "from pathlib import Path\n",
    "\n",
    "mg.export(f\"{Path.cwd()}/mase/tasks/tutorial3/best_model\")"
   ]
  },
  {
   "cell_type": "code",
   "execution_count": 87,
   "metadata": {},
   "outputs": [
    {
     "data": {
      "image/png": "[encoded data removed]",
      "text/plain": [
       "<Figure size 640x480 with 1 Axes>"
      ]
     },
     "metadata": {},
     "output_type": "display_data"
    }
   ],
   "source": [
    "fig_max = plt.figure()\n",
    "max_col = df_pqt['accuracy'].combine(df_qat['accuracy'], max)\n",
    "plt.scatter(x=df_pqt['width'], y=max_col * 100, marker='x', s=20)\n",
    "plt.axhline(y=baseline_res['eval_accuracy'] * 100, linestyle='--', linewidth=0.8)\n",
    "plt.xlabel('Fixed Point Width (bits)')\n",
    "plt.ylabel('Maximum Accuracy on IMBD set (%)')\n",
    "plt.title('Fixed Point Width vs Maximum Accuracy at each Width')\n",
    "plt.savefig(f'{Path.home()}/mase/tasks/tutorial3/tsk1a')\n",
    "plt.show()\n"
   ]
  }
 ],
 "metadata": {
  "kernelspec": {
   "display_name": "Python [conda env:mase_env]",
   "language": "python",
   "name": "conda-env-mase_env-py"
  }
 },
 "nbformat": 4,
 "nbformat_minor": 2
}
