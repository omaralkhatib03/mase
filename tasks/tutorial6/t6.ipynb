{
 "cells": [
  {
   "cell_type": "code",
   "execution_count": 1,
   "metadata": {},
   "outputs": [],
   "source": [
    "checkpoint = \"prajjwal1/bert-tiny\"\n",
    "tokenizer_checkpoint = \"bert-base-uncased\"\n",
    "dataset_name = \"imdb\""
   ]
  },
  {
   "cell_type": "code",
   "execution_count": 2,
   "metadata": {},
   "outputs": [
    {
     "name": "stderr",
     "output_type": "stream",
     "text": [
      "/vol/bitbucket/oa321/mase/venv/lib/python3.11/site-packages/tqdm/auto.py:21: TqdmWarning: IProgress not found. Please update jupyter and ipywidgets. See https://ipywidgets.readthedocs.io/en/stable/user_install.html\n",
      "  from .autonotebook import tqdm as notebook_tqdm\n"
     ]
    }
   ],
   "source": [
    "from transformers import AutoModel\n",
    "\n",
    "model = AutoModel.from_pretrained(checkpoint)"
   ]
  },
  {
   "cell_type": "code",
   "execution_count": 3,
   "metadata": {},
   "outputs": [],
   "source": [
    "from pathlib import Path\n",
    "import dill\n",
    "\n",
    "with open(f'{Path.cwd()}/../tutorial5/t5_best_model.pkl', \"rb\") as f:\n",
    "    base_model = dill.load(f)\n"
   ]
  },
  {
   "cell_type": "code",
   "execution_count": 4,
   "metadata": {},
   "outputs": [
    {
     "name": "stderr",
     "output_type": "stream",
     "text": [
      "\u001b[32mINFO    \u001b[0m \u001b[34mTokenizing dataset imdb with AutoTokenizer for bert-base-uncased.\u001b[0m\n"
     ]
    }
   ],
   "source": [
    "from chop.tools import get_tokenized_dataset\n",
    "\n",
    "dataset, tokenizer = get_tokenized_dataset(\n",
    "    dataset = dataset_name,\n",
    "    checkpoint= tokenizer_checkpoint,\n",
    "    return_tokenizer=True\n",
    ")"
   ]
  },
  {
   "cell_type": "code",
   "execution_count": 5,
   "metadata": {},
   "outputs": [
    {
     "data": {
      "text/html": [
       "\n",
       "    <div>\n",
       "      \n",
       "      <progress value='3125' max='3125' style='width:300px; height:20px; vertical-align: middle;'></progress>\n",
       "      [3125/3125 00:44, Epoch 1/1]\n",
       "    </div>\n",
       "    <table border=\"1\" class=\"dataframe\">\n",
       "  <thead>\n",
       " <tr style=\"text-align: left;\">\n",
       "      <th>Step</th>\n",
       "      <th>Training Loss</th>\n",
       "    </tr>\n",
       "  </thead>\n",
       "  <tbody>\n",
       "    <tr>\n",
       "      <td>500</td>\n",
       "      <td>0.351900</td>\n",
       "    </tr>\n",
       "    <tr>\n",
       "      <td>1000</td>\n",
       "      <td>0.328700</td>\n",
       "    </tr>\n",
       "    <tr>\n",
       "      <td>1500</td>\n",
       "      <td>0.342800</td>\n",
       "    </tr>\n",
       "    <tr>\n",
       "      <td>2000</td>\n",
       "      <td>0.349000</td>\n",
       "    </tr>\n",
       "    <tr>\n",
       "      <td>2500</td>\n",
       "      <td>0.346100</td>\n",
       "    </tr>\n",
       "    <tr>\n",
       "      <td>3000</td>\n",
       "      <td>0.371300</td>\n",
       "    </tr>\n",
       "  </tbody>\n",
       "</table><p>"
      ],
      "text/plain": [
       "<IPython.core.display.HTML object>"
      ]
     },
     "metadata": {},
     "output_type": "display_data"
    },
    {
     "data": {
      "text/html": [
       "\n",
       "    <div>\n",
       "      \n",
       "      <progress value='3125' max='3125' style='width:300px; height:20px; vertical-align: middle;'></progress>\n",
       "      [3125/3125 00:18]\n",
       "    </div>\n",
       "    "
      ],
      "text/plain": [
       "<IPython.core.display.HTML object>"
      ]
     },
     "metadata": {},
     "output_type": "display_data"
    },
    {
     "name": "stdout",
     "output_type": "stream",
     "text": [
      "0.87376\n"
     ]
    }
   ],
   "source": [
    "from copy import deepcopy\n",
    "from chop.tools import get_trainer\n",
    "\n",
    "model = deepcopy(base_model)\n",
    "\n",
    "trainer = get_trainer(\n",
    "    model = model,\n",
    "    tokenized_dataset = dataset,\n",
    "    tokenizer = tokenizer,\n",
    "    evaluate_metric = \"accuracy\",\n",
    "    num_train_epochs=1\n",
    ")\n",
    "\n",
    "trainer.train()\n",
    "\n",
    "b_res = trainer.evaluate()\n",
    "\n",
    "baseline = b_res['eval_accuracy']\n",
    "\n",
    "print(baseline)"
   ]
  },
  {
   "cell_type": "code",
   "execution_count": null,
   "metadata": {},
   "outputs": [],
   "source": [
    "import torch\n",
    "from chop.nn.quantized.modules.linear import (\n",
    "    LinearInteger,\n",
    "    LinearMinifloatDenorm,\n",
    "    LinearMinifloatIEEE,\n",
    "    LinearLog,\n",
    "    LinearBlockFP,\n",
    "    LinearBlockMinifloat,\n",
    "    LinearBlockLog,\n",
    "    LinearBinary,\n",
    "    LinearBinaryScaling,\n",
    "    LinearBinaryResidualSign,\n",
    ")\n",
    "\n",
    "search_space = {\n",
    "    \"int_width\":[i for i in range(1, 4)],\n",
    "    \"block_widths\": [i for i in range(2, 5)],\n",
    "    \"frac_width\": [i for i in range(3, 6)],\n",
    "    \"linear_layer_choices\": [\n",
    "        torch.nn.Linear,\n",
    "        LinearInteger,\n",
    "        LinearMinifloatIEEE,\n",
    "        LinearMinifloatDenorm,\n",
    "        LinearLog,\n",
    "        LinearBinaryScaling,\n",
    "        LinearBinary,\n",
    "        LinearBlockFP,\n",
    "        LinearBlockLog\n",
    "    ],\n",
    "}"
   ]
  },
  {
   "cell_type": "code",
   "execution_count": 12,
   "metadata": {},
   "outputs": [],
   "source": [
    "from chop.tools.utils import deepsetattr\n",
    "from copy import deepcopy\n",
    "\n",
    "\n",
    "def getFloatConfig(trial, kwargs, appendWidthToBias=False):\n",
    "    b_width = getPower2OfParam(trial, \"bias_width\", \"frac_width\")\n",
    "    b_exp   = trial.suggest_int(\"bias_exponent_width\", 1, b_width)\n",
    "\n",
    "    d_width = getPower2OfParam(trial, \"data_in_width\", \"frac_width\")\n",
    "    d_exp   = trial.suggest_int(\"data_exponent_width\", 1, d_width)\n",
    "\n",
    "    w_width = getPower2OfParam(trial, \"weight_width\", \"frac_width\")\n",
    "    w_exp   = trial.suggest_int(\"weight_exponent_width\", 1, w_width)\n",
    "\n",
    "    width = \"_width\" if appendWidthToBias else \"\"\n",
    "\n",
    "    kwargs[\"config\"] = {\n",
    "        \"bias_width\": b_width, # Main param\n",
    "        \"bias_exponent_width\": b_exp,\n",
    "        f\"bias_exponent_bias{width}\": trial.suggest_int(f\"bias_exponent_bias{width}\", 1, b_exp),\n",
    "\n",
    "        \"data_in_width\": d_width, # Main param\n",
    "        \"data_in_exponent_width\": d_exp,\n",
    "        f\"data_in_exponent_bias{width}\": trial.suggest_int(f\"data_exponent_bias{width}\", 1, d_exp),\n",
    "\n",
    "        \"weight_width\": w_width, # Main param\n",
    "        \"weight_exponent_width\": w_exp,\n",
    "        f\"weight_exponent_bias{width}\": trial.suggest_int(f\"weight_exponent_bias{width}\", 1, w_exp),\n",
    "    }\n",
    "\n",
    "    return kwargs\n",
    "\n",
    "def getPower2OfParam(trial, param:str, ss_name:str) -> int:\n",
    "    idx = trial.suggest_int(param, 0, len(search_space[ss_name])-1)\n",
    "    return 2**search_space[ss_name][idx]\n",
    "\n",
    "def construct_model(trial):\n",
    "    trial_model = deepcopy(base_model)\n",
    "\n",
    "    for name,layer in trial_model.named_modules():\n",
    "        if (not isinstance(layer, torch.nn.Linear)):\n",
    "            continue\n",
    "\n",
    "        new_layer_cls = trial.suggest_categorical(\n",
    "            f\"{name}_type\",\n",
    "            search_space[\"linear_layer_choices\"]\n",
    "        )\n",
    "\n",
    "        if (new_layer_cls == torch.nn.Linear):\n",
    "            continue\n",
    "\n",
    "        kwargs = {\n",
    "            \"in_features\":layer.in_features,\n",
    "            \"out_features\":layer.out_features\n",
    "        }\n",
    "\n",
    "        kwargs[\"config\"] = {}\n",
    "\n",
    "        if (new_layer_cls == LinearInteger):\n",
    "           kwargs[\"config\"] = {\n",
    "                    \"data_in_width\":        getPower2OfParam(trial, \"data_in_width\", \"int_width\"),\n",
    "                    \"data_in_frac_width\":   getPower2OfParam(trial, \"data_in_frac_width\", \"frac_width\"),\n",
    "                    \"weight_width\":         getPower2OfParam(trial, \"weight_width\", \"int_width\"),\n",
    "                    \"weight_frac_width\":    getPower2OfParam(trial, \"weight_frac_width\", \"frac_width\"),\n",
    "                    \"bias_width\":           getPower2OfParam(trial, \"bias_width\", \"int_width\"),\n",
    "                    \"bias_frac_width\":      getPower2OfParam(trial, \"bias_frac_width\", \"frac_width\"),\n",
    "                }\n",
    "        elif new_layer_cls in [\n",
    "            LinearMinifloatIEEE,\n",
    "            LinearMinifloatDenorm,\n",
    "            LinearLog,\n",
    "            LinearBlockFP,\n",
    "            LinearBlockLog,\n",
    "            LinearBlockMinifloat\n",
    "        ]:\n",
    "            kwargs = getFloatConfig(trial, kwargs, appendWidthToBias=new_layer_cls in [LinearBlockLog, LinearBlockMinifloat])\n",
    "\n",
    "            if new_layer_cls in [LinearBlockLog, LinearBlockMinifloat, LinearBlockFP]:\n",
    "                for param in [\"weight_block_size\", \"data_in_block_size\", \"bias_block_size\"]:\n",
    "                    dim = trial.suggest_int(f\"dim_{param}\", 1, 2)\n",
    "                    kwargs[\"config\"][param] = [0]*dim\n",
    "                    for i in range(0, dim):\n",
    "                        kwargs[\"config\"][param][i-1] = getPower2OfParam(trial, param, \"block_widths\")\n",
    "        elif new_layer_cls == LinearBinary:\n",
    "\n",
    "            kwargs[\"config\"][\"weight_stochastic\"] = trial.suggest_int(\"weight_stochastic\", 0, 1)\n",
    "            kwargs[\"config\"][\"weight_bipolar\"] = True\n",
    "\n",
    "        elif new_layer_cls == LinearBinaryScaling:\n",
    "            kwargs[\"config\"][\"data_in_bipolar\"] = True\n",
    "            kwargs[\"config\"][\"bias_bipolar\"] = True\n",
    "            kwargs[\"config\"][\"weight_bipolar\"] = True\n",
    "\n",
    "            kwargs[\"config\"][\"data_in_stochastic\"] = trial.suggest_int(\"data_in_stochastic\", 0, 1)\n",
    "            kwargs[\"config\"][\"bias_stochastic\"] = trial.suggest_int(\"bias_stochastic\", 0, 1)\n",
    "            kwargs[\"config\"][\"weight_stochastic\"] = trial.suggest_int(\"weight_stochastic\", 0, 1)\n",
    "            kwargs[\"config\"][\"binary_training\"] = trial.suggest_int(\"weight_stochastic\", 0, 1)\n",
    "        else:\n",
    "            raise RuntimeError(\"Not Implemented\")\n",
    "\n",
    "        assert len(kwargs[\"config\"]) > 0\n",
    "\n",
    "        new_layer = new_layer_cls(**)\n",
    "\n",
    "        new_layer.weight.data = layer.weight.data\n",
    "\n",
    "        deepsetattr(trial_model, name, new_layer)\n",
    "\n",
    "    return trial_model"
   ]
  },
  {
   "cell_type": "code",
   "execution_count": 13,
   "metadata": {},
   "outputs": [],
   "source": [
    "from chop.tools import get_trainer\n",
    "import random\n",
    "\n",
    "def objective(trial):\n",
    "\n",
    "    model = construct_model(trial)\n",
    "\n",
    "    trainer = get_trainer(\n",
    "        model = model,\n",
    "        tokenized_dataset = dataset,\n",
    "        tokenizer = tokenizer,\n",
    "        evaluate_metric = \"accuracy\",\n",
    "        num_train_epochs=1\n",
    "    )\n",
    "\n",
    "    trainer.train()\n",
    "    eval_results = trainer.evaluate()\n",
    "    trial.set_user_attr(\"model\", model)\n",
    "\n",
    "    return eval_results[\"eval_accuracy\"]"
   ]
  },
  {
   "cell_type": "code",
   "execution_count": 16,
   "metadata": {},
   "outputs": [],
   "source": [
    "from optuna.samplers import GridSampler, RandomSampler, TPESampler\n",
    "\n",
    "sampler = TPESampler()"
   ]
  },
  {
   "cell_type": "code",
   "execution_count": null,
   "metadata": {},
   "outputs": [],
   "source": [
    "import optuna\n",
    "\n",
    "study = optuna.create_study(\n",
    "    direction=\"maximize\",\n",
    "    study_name=\"bert-tiny-nas-study\",\n",
    "    sampler=sampler\n",
    ")\n",
    "\n",
    "study.optimize(\n",
    "    objective,\n",
    "    n_trials=1,\n",
    "    timeout = 60 * 60 * 24\n",
    ")"
   ]
  },
  {
   "cell_type": "code",
   "execution_count": 20,
   "metadata": {},
   "outputs": [],
   "source": [
    "from optuna import Study\n",
    "from optuna.trial import FrozenTrial\n",
    "import pandas as pd\n",
    "\n",
    "def samplerTrial(sampler_name:str, trials:int, sampler, f=objective) -> None:\n",
    "\n",
    "    data = [0]*trials\n",
    "\n",
    "    def record_accuracy_callback(stud:Study, fzt:FrozenTrial):\n",
    "        print(f\"Trial: {fzt.number}, Accuracy: {fzt.value}\")\n",
    "        data[fzt.number] ={\"n\":fzt.number, \"accuracy\":fzt.value}\n",
    "\n",
    "    if (sampler == None):\n",
    "        raise RuntimeError(\"No Sampler Provided\")\n",
    "\n",
    "    study = optuna.create_study(\n",
    "        direction=\"maximize\",\n",
    "        study_name=f\"bert-tiny-nas-{sampler_name}-study\",\n",
    "        sampler=sampler\n",
    "    )\n",
    "\n",
    "    study.optimize(\n",
    "        f,\n",
    "        n_trials=trials,\n",
    "        timeout=60*60*24,\n",
    "        callbacks=[record_accuracy_callback]\n",
    "    )\n",
    "\n",
    "    df = pd.DataFrame(data)\n",
    "    df.to_csv(f\"{Path.cwd()}/sampler_run_{sampler_name}.csv\", index=False)"
   ]
  },
  {
   "cell_type": "code",
   "execution_count": 6,
   "metadata": {},
   "outputs": [],
   "source": [
    "# samplerTrial(sampler_name=\"tps_layers\", trials=100, sampler=sampler, f=objective)"
   ]
  },
  {
   "cell_type": "code",
   "execution_count": 14,
   "metadata": {},
   "outputs": [],
   "source": [
    "import matplotlib.pyplot as plt\n",
    "import pandas as pd\n",
    "from pathlib import Path\n",
    "import numpy as np\n",
    "\n",
    "\n",
    "def plot(df_name:str) -> None:\n",
    "    df = pd.read_csv(f\"{Path.cwd()}/{df_name}.csv\")\n",
    "\n",
    "    # plt.scatter(x=df['n'], y=df['accuracy'] * 100, marker='x', s=20)\n",
    "\n",
    "    # plt.axhline(y=baseline * 100, linestyle='--', linewidth=0.8)\n",
    "    # plt.legend(['Accuracy', 'Baseline'], bbox_to_anchor=(1.04, 1), loc=\"upper left\")\n",
    "    # plt.xlabel(\"Trials\")\n",
    "    # plt.ylabel(\"Accuracy %\")\n",
    "    # plt.title(\"Trials vs Accuracy\")\n",
    "\n",
    "    # plt.show()\n",
    "\n",
    "    fig = plt.figure()\n",
    "\n",
    "    plt.scatter(x=df['n'], y=df['accuracy'].cummax() * 100, marker='x', s=20)\n",
    "\n",
    "    plt.axhline(y=baseline * 100, linestyle='--', linewidth=0.8)\n",
    "    lgd = plt.legend(['Accuracy', 'Baseline'], bbox_to_anchor=(1.04, 1), loc=\"upper left\")\n",
    "    plt.xlabel(\"Trials\")\n",
    "    plt.ylabel(\"Accuracy %\")\n",
    "    plt.title(\"Trials vs Accuracy\")\n",
    "    plt.savefig(f\"{Path.cwd()}/cp_{df_name}\",  bbox_extra_artists=(lgd,), bbox_inches='tight')\n",
    "    plt.show()"
   ]
  },
  {
   "cell_type": "code",
   "execution_count": 8,
   "metadata": {},
   "outputs": [],
   "source": [
    "# plot('sampler_run_random')\n",
    "# plot('tps')"
   ]
  },
  {
   "cell_type": "code",
   "execution_count": 12,
   "metadata": {},
   "outputs": [
    {
     "data": {
      "image/png": "[encoded data removed]",
      "text/plain": [
       "<Figure size 640x480 with 1 Axes>"
      ]
     },
     "metadata": {},
     "output_type": "display_data"
    }
   ],
   "source": [
    "plot('sampler_run_rnd_layers')"
   ]
  },
  {
   "cell_type": "code",
   "execution_count": 13,
   "metadata": {},
   "outputs": [
    {
     "data": {
      "image/png": "[encoded data removed]",
      "text/plain": [
       "<Figure size 640x480 with 1 Axes>"
      ]
     },
     "metadata": {},
     "output_type": "display_data"
    }
   ],
   "source": [
    "plot('sampler_run_tpes_layers')"
   ]
  }
 ],
 "metadata": {
  "kernelspec": {
   "display_name": "venv",
   "language": "python",
   "name": "python3"
  },
  "language_info": {
   "codemirror_mode": {
    "name": "ipython",
    "version": 3
   },
   "file_extension": ".py",
   "mimetype": "text/x-python",
   "name": "python",
   "nbconvert_exporter": "python",
   "pygments_lexer": "ipython3",
   "version": "3.11.11"
  }
 },
 "nbformat": 4,
 "nbformat_minor": 2
}
