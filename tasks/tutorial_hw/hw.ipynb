{
 "cells": [
  {
   "cell_type": "code",
   "execution_count": 1,
   "metadata": {},
   "outputs": [
    {
     "name": "stderr",
     "output_type": "stream",
     "text": [
      "/vol/bitbucket/oa321/mase/venv/lib/python3.11/site-packages/tqdm/auto.py:21: TqdmWarning: IProgress not found. Please update jupyter and ipywidgets. See https://ipywidgets.readthedocs.io/en/stable/user_install.html\n",
      "  from .autonotebook import tqdm as notebook_tqdm\n",
      "\u001b[32mINFO    \u001b[0m \u001b[34mSet logging level to debug\u001b[0m\n"
     ]
    },
    {
     "name": "stdout",
     "output_type": "stream",
     "text": [
      "Usage:\n",
      "        verilator --help\n",
      "        verilator --version\n",
      "        verilator --binary -j 0 [options] [source_files.v]... [opt_c_files.cpp/c/cc/a/o/so]\n",
      "        verilator --cc [options] [source_files.v]... [opt_c_files.cpp/c/cc/a/o/so]\n",
      "        verilator --sc [options] [source_files.v]... [opt_c_files.cpp/c/cc/a/o/so]\n",
      "        verilator --lint-only -Wall [source_files.v]...\n",
      "\n"
     ]
    }
   ],
   "source": [
    "import torch\n",
    "torch.manual_seed(0)\n",
    "\n",
    "from chop.ir.graph.mase_graph import MaseGraph\n",
    "\n",
    "from chop.passes.graph.analysis import (\n",
    "    init_metadata_analysis_pass,\n",
    "    add_common_metadata_analysis_pass,\n",
    "    add_hardware_metadata_analysis_pass,\n",
    "    report_node_type_analysis_pass,\n",
    ")\n",
    "\n",
    "from chop.passes.graph.transforms import (\n",
    "    emit_verilog_top_transform_pass,\n",
    "    emit_internal_rtl_transform_pass,\n",
    "    emit_bram_transform_pass,\n",
    "    emit_cocotb_transform_pass,\n",
    "    quantize_transform_pass,\n",
    ")\n",
    "\n",
    "from chop.tools.logger import set_logging_verbosity\n",
    "\n",
    "set_logging_verbosity(\"debug\")\n",
    "\n",
    "import toml\n",
    "import torch\n",
    "import torch.nn as nn\n",
    "import os\n",
    "os.environ[\"PATH\"] = \"/vol/bitbucket/oa321/verilator/verilator/bin:\" + os.environ[\"PATH\"]\n",
    "!verilator"
   ]
  },
  {
   "cell_type": "code",
   "execution_count": 2,
   "metadata": {},
   "outputs": [],
   "source": [
    "class MLP(torch.nn.Module):\n",
    "    \"\"\"\n",
    "    Toy FC model for digit recognition on MNIST\n",
    "    \"\"\"\n",
    "\n",
    "    def __init__(self) -> None:\n",
    "        super().__init__()\n",
    "\n",
    "        self.fc1 = nn.Linear(4, 8)\n",
    "\n",
    "    def forward(self, x):\n",
    "        x = torch.flatten(x, start_dim=1, end_dim=-1)\n",
    "        x = torch.nn.functional.relu(self.fc1(x))\n",
    "        return x"
   ]
  },
  {
   "cell_type": "code",
   "execution_count": 3,
   "metadata": {},
   "outputs": [
    {
     "name": "stderr",
     "output_type": "stream",
     "text": [
      "\u001b[36mDEBUG   \u001b[0m \u001b[34mgraph():\n",
      "    %x : [num_users=1] = placeholder[target=x]\n",
      "    %flatten : [num_users=1] = call_function[target=torch.flatten](args = (%x,), kwargs = {start_dim: 1, end_dim: -1})\n",
      "    %fc1 : [num_users=1] = call_module[target=fc1](args = (%flatten,), kwargs = {})\n",
      "    %relu : [num_users=1] = call_function[target=torch.nn.functional.relu](args = (%fc1,), kwargs = {inplace: False})\n",
      "    return relu\u001b[0m\n"
     ]
    }
   ],
   "source": [
    "mlp = MLP()\n",
    "mg = MaseGraph(model=mlp)\n",
    "\n",
    "# Provide a dummy input for the graph so it can use for tracing\n",
    "batch_size = 1\n",
    "x = torch.randn((batch_size, 2, 2))\n",
    "dummy_in = {\"x\": x}\n",
    "\n",
    "mg, _ = init_metadata_analysis_pass(mg, None)\n",
    "mg, _ = add_common_metadata_analysis_pass(\n",
    "    mg, {\"dummy_in\": dummy_in, \"add_value\": False}\n",
    ")"
   ]
  },
  {
   "cell_type": "code",
   "execution_count": 4,
   "metadata": {},
   "outputs": [
    {
     "name": "stderr",
     "output_type": "stream",
     "text": [
      "\u001b[32mINFO    \u001b[0m \u001b[34mInspecting graph [add_common_node_type_analysis_pass]\u001b[0m\n",
      "\u001b[32mINFO    \u001b[0m \u001b[34m\n",
      "Node name    Fx Node op     Mase type            Mase op      Value type\n",
      "-----------  -------------  -------------------  -----------  ------------\n",
      "x            placeholder    placeholder          placeholder  NA\n",
      "flatten      call_function  implicit_func        flatten      float\n",
      "fc1          call_module    module_related_func  linear       fixed\n",
      "relu         call_function  module_related_func  relu         fixed\n",
      "output       output         output               output       NA\u001b[0m\n"
     ]
    }
   ],
   "source": [
    "config_file = os.path.join(\n",
    "    os.path.abspath(\"\"),\n",
    "    \"..\",\n",
    "    \"..\",\n",
    "    \"configs\",\n",
    "    \"tests\",\n",
    "    \"quantize\",\n",
    "    \"fixed.toml\",\n",
    ")\n",
    "with open(config_file, \"r\") as f:\n",
    "    quan_args = toml.load(f)[\"passes\"][\"quantize\"]\n",
    "mg, _ = quantize_transform_pass(mg, quan_args)\n",
    "\n",
    "_ = report_node_type_analysis_pass(mg)\n",
    "\n",
    "# Update the metadata\n",
    "for node in mg.fx_graph.nodes:\n",
    "    for arg, arg_info in node.meta[\"mase\"][\"common\"][\"args\"].items():\n",
    "        if isinstance(arg_info, dict):\n",
    "            arg_info[\"type\"] = \"fixed\"\n",
    "            arg_info[\"precision\"] = [8, 3]\n",
    "    for result, result_info in node.meta[\"mase\"][\"common\"][\"results\"].items():\n",
    "        if isinstance(result_info, dict):\n",
    "            result_info[\"type\"] = \"fixed\"\n",
    "            result_info[\"precision\"] = [8, 3]"
   ]
  },
  {
   "cell_type": "code",
   "execution_count": 5,
   "metadata": {},
   "outputs": [],
   "source": [
    "mg, _ = add_hardware_metadata_analysis_pass(mg)"
   ]
  },
  {
   "cell_type": "code",
   "execution_count": 6,
   "metadata": {},
   "outputs": [
    {
     "name": "stderr",
     "output_type": "stream",
     "text": [
      "\u001b[32mINFO    \u001b[0m \u001b[34mEmitting Verilog...\u001b[0m\n",
      "\u001b[32mINFO    \u001b[0m \u001b[34mEmitting internal components...\u001b[0m\n"
     ]
    }
   ],
   "source": [
    "mg, _ = emit_verilog_top_transform_pass(mg)\n",
    "mg, _ = emit_internal_rtl_transform_pass(mg)"
   ]
  },
  {
   "cell_type": "code",
   "execution_count": 7,
   "metadata": {},
   "outputs": [
    {
     "name": "stderr",
     "output_type": "stream",
     "text": [
      "\u001b[32mINFO    \u001b[0m \u001b[34mEmitting BRAM...\u001b[0m\n",
      "\u001b[36mDEBUG   \u001b[0m \u001b[34mEmitting DAT file for node: fc1, parameter: weight\u001b[0m\n",
      "\u001b[36mDEBUG   \u001b[0m \u001b[34mROM module weight successfully written into /homes/oa321/.mase/top/hardware/rtl/fc1_weight_source.sv\u001b[0m\n",
      "\u001b[36mDEBUG   \u001b[0m \u001b[34mInit data weight successfully written into /homes/oa321/.mase/top/hardware/rtl/fc1_weight_rom.dat\u001b[0m\n",
      "\u001b[36mDEBUG   \u001b[0m \u001b[34mEmitting DAT file for node: fc1, parameter: bias\u001b[0m\n",
      "\u001b[36mDEBUG   \u001b[0m \u001b[34mROM module bias successfully written into /homes/oa321/.mase/top/hardware/rtl/fc1_bias_source.sv\u001b[0m\n",
      "\u001b[36mDEBUG   \u001b[0m \u001b[34mInit data bias successfully written into /homes/oa321/.mase/top/hardware/rtl/fc1_bias_rom.dat\u001b[0m\n"
     ]
    }
   ],
   "source": [
    "mg, _ = emit_bram_transform_pass(mg)"
   ]
  },
  {
   "cell_type": "code",
   "execution_count": 8,
   "metadata": {},
   "outputs": [
    {
     "name": "stderr",
     "output_type": "stream",
     "text": [
      "\u001b[32mINFO    \u001b[0m \u001b[34mEmitting testbench...\u001b[0m\n"
     ]
    }
   ],
   "source": [
    "mg, _ = emit_cocotb_transform_pass(mg)"
   ]
  },
  {
   "cell_type": "code",
   "execution_count": 9,
   "metadata": {},
   "outputs": [
    {
     "name": "stdout",
     "output_type": "stream",
     "text": [
      "INFO: Running command perl /vol/bitbucket/oa321/verilator/verilator/bin/verilator -cc --exe -Mdir /vol/bitbucket/oa321/mase/tasks/tutorial_hw/sim_build -DCOCOTB_SIM=1 --top-module top --vpi --public-flat-rw --prefix Vtop -o top -LDFLAGS '-Wl,-rpath,/vol/bitbucket/oa321/mase/venv/lib/python3.11/site-packages/cocotb/libs -L/vol/bitbucket/oa321/mase/venv/lib/python3.11/site-packages/cocotb/libs -lcocotbvpi_verilator' -Wno-fatal -Wno-lint -Wno-style --trace-fst --trace-structs --trace-depth 3 -I/homes/oa321/.mase/top/hardware/rtl -I/vol/bitbucket/oa321/mase/src/mase_components/normalization_layers/rtl -I/vol/bitbucket/oa321/mase/src/mase_components/memory/rtl -I/vol/bitbucket/oa321/mase/src/mase_components/activation_layers/rtl -I/vol/bitbucket/oa321/mase/src/mase_components/cast/rtl -I/vol/bitbucket/oa321/mase/src/mase_components/interface/rtl -I/vol/bitbucket/oa321/mase/src/mase_components/convolution_layers/rtl -I/vol/bitbucket/oa321/mase/src/mase_components/vivado/rtl -I/vol/bitbucket/oa321/mase/src/mase_components/language_models/rtl -I/vol/bitbucket/oa321/mase/src/mase_components/common/rtl -I/vol/bitbucket/oa321/mase/src/mase_components/transformer_layers/rtl -I/vol/bitbucket/oa321/mase/src/mase_components/linear_layers/rtl -I/vol/bitbucket/oa321/mase/src/mase_components/vision_models/rtl -I/vol/bitbucket/oa321/mase/src/mase_components/scalar_operators/rtl -I/vol/bitbucket/oa321/mase/src/mase_components/hls/rtl -I/vol/bitbucket/oa321/mase/src/mase_components/systolic_arrays/rtl -I/vol/bitbucket/oa321/mase/src/mase_components/helper/rtl /vol/bitbucket/oa321/mase/venv/lib/python3.11/site-packages/cocotb/share/lib/verilator/verilator.cpp /homes/oa321/.mase/top/hardware/rtl/top.sv /homes/oa321/.mase/top/hardware/rtl/fixed_linear.sv /homes/oa321/.mase/top/hardware/rtl/register_slice.sv /homes/oa321/.mase/top/hardware/rtl/fixed_adder_tree.sv /homes/oa321/.mase/top/hardware/rtl/fixed_adder_tree_layer.sv /homes/oa321/.mase/top/hardware/rtl/fixed_mult.sv /homes/oa321/.mase/top/hardware/rtl/fixed_vector_mult.sv /homes/oa321/.mase/top/hardware/rtl/unpacked_repeat_circular_buffer.sv /homes/oa321/.mase/top/hardware/rtl/fixed_accumulator.sv /homes/oa321/.mase/top/hardware/rtl/skid_buffer.sv /homes/oa321/.mase/top/hardware/rtl/fixed_dot_product.sv /homes/oa321/.mase/top/hardware/rtl/matrix_accumulator.sv /homes/oa321/.mase/top/hardware/rtl/matrix_unflatten.sv /homes/oa321/.mase/top/hardware/rtl/join2.sv /homes/oa321/.mase/top/hardware/rtl/simple_matmul.sv /homes/oa321/.mase/top/hardware/rtl/matrix_flatten.sv /homes/oa321/.mase/top/hardware/rtl/matmul.sv /homes/oa321/.mase/top/hardware/rtl/transpose.sv /homes/oa321/.mase/top/hardware/rtl/matrix_stream_transpose.sv /homes/oa321/.mase/top/hardware/rtl/matrix_fifo.sv /homes/oa321/.mase/top/hardware/rtl/fixed_cast.sv /homes/oa321/.mase/top/hardware/rtl/fixed_relu.sv /homes/oa321/.mase/top/hardware/rtl/fc1_weight_source.sv /homes/oa321/.mase/top/hardware/rtl/fc1_bias_source.sv in directory /vol/bitbucket/oa321/mase/tasks/tutorial_hw/sim_build\n",
      "- V e r i l a t i o n   R e p o r t: Verilator 5.032 2025-01-01 rev v5.032-46-g447ab12ce\n",
      "- Verilator: Built from 1.508 MB sources in 43 modules, into 3.006 MB in 16 C++ files needing 0.001 MB\n",
      "- Verilator: Walltime 0.489 s (elab=0.010, cvt=0.147, bld=0.000); cpu 0.162 s on 1 threads; alloced 36.035 MB\n",
      "INFO: Running command make -C /vol/bitbucket/oa321/mase/tasks/tutorial_hw/sim_build -f Vtop.mk VM_TRACE=0 in directory /vol/bitbucket/oa321/mase/tasks/tutorial_hw/sim_build\n",
      "make: Entering directory '/vol/bitbucket/oa321/mase/tasks/tutorial_hw/sim_build'\n",
      "ccache g++  -I.  -MMD -I/vol/bitbucket/oa321/verilator/verilator/include -I/vol/bitbucket/oa321/verilator/verilator/include/vltstd -DVM_COVERAGE=0 -DVM_SC=0 -DVM_TIMING=0 -DVM_TRACE=0 -DVM_TRACE_FST=1 -DVM_TRACE_VCD=0 -faligned-new -fcf-protection=none -Wno-bool-operation -Wno-shadow -Wno-sign-compare -Wno-tautological-compare -Wno-uninitialized -Wno-unused-but-set-parameter -Wno-unused-but-set-variable -Wno-unused-parameter -Wno-unused-variable      -Os  -c -o verilator.o /vol/bitbucket/oa321/mase/venv/lib/python3.11/site-packages/cocotb/share/lib/verilator/verilator.cpp\n",
      "ccache g++ -Os  -I.  -MMD -I/vol/bitbucket/oa321/verilator/verilator/include -I/vol/bitbucket/oa321/verilator/verilator/include/vltstd -DVM_COVERAGE=0 -DVM_SC=0 -DVM_TIMING=0 -DVM_TRACE=0 -DVM_TRACE_FST=1 -DVM_TRACE_VCD=0 -faligned-new -fcf-protection=none -Wno-bool-operation -Wno-shadow -Wno-sign-compare -Wno-tautological-compare -Wno-uninitialized -Wno-unused-but-set-parameter -Wno-unused-but-set-variable -Wno-unused-parameter -Wno-unused-variable      -c -o verilated.o /vol/bitbucket/oa321/verilator/verilator/include/verilated.cpp\n",
      "ccache g++ -Os  -I.  -MMD -I/vol/bitbucket/oa321/verilator/verilator/include -I/vol/bitbucket/oa321/verilator/verilator/include/vltstd -DVM_COVERAGE=0 -DVM_SC=0 -DVM_TIMING=0 -DVM_TRACE=0 -DVM_TRACE_FST=1 -DVM_TRACE_VCD=0 -faligned-new -fcf-protection=none -Wno-bool-operation -Wno-shadow -Wno-sign-compare -Wno-tautological-compare -Wno-uninitialized -Wno-unused-but-set-parameter -Wno-unused-but-set-variable -Wno-unused-parameter -Wno-unused-variable      -c -o verilated_dpi.o /vol/bitbucket/oa321/verilator/verilator/include/verilated_dpi.cpp\n",
      "ccache g++ -Os  -I.  -MMD -I/vol/bitbucket/oa321/verilator/verilator/include -I/vol/bitbucket/oa321/verilator/verilator/include/vltstd -DVM_COVERAGE=0 -DVM_SC=0 -DVM_TIMING=0 -DVM_TRACE=0 -DVM_TRACE_FST=1 -DVM_TRACE_VCD=0 -faligned-new -fcf-protection=none -Wno-bool-operation -Wno-shadow -Wno-sign-compare -Wno-tautological-compare -Wno-uninitialized -Wno-unused-but-set-parameter -Wno-unused-but-set-variable -Wno-unused-parameter -Wno-unused-variable      -c -o verilated_vpi.o /vol/bitbucket/oa321/verilator/verilator/include/verilated_vpi.cpp\n",
      "ccache g++ -Os  -I.  -MMD -I/vol/bitbucket/oa321/verilator/verilator/include -I/vol/bitbucket/oa321/verilator/verilator/include/vltstd -DVM_COVERAGE=0 -DVM_SC=0 -DVM_TIMING=0 -DVM_TRACE=0 -DVM_TRACE_FST=1 -DVM_TRACE_VCD=0 -faligned-new -fcf-protection=none -Wno-bool-operation -Wno-shadow -Wno-sign-compare -Wno-tautological-compare -Wno-uninitialized -Wno-unused-but-set-parameter -Wno-unused-but-set-variable -Wno-unused-parameter -Wno-unused-variable      -c -o verilated_fst_c.o /vol/bitbucket/oa321/verilator/verilator/include/verilated_fst_c.cpp\n",
      "ccache g++ -Os  -I.  -MMD -I/vol/bitbucket/oa321/verilator/verilator/include -I/vol/bitbucket/oa321/verilator/verilator/include/vltstd -DVM_COVERAGE=0 -DVM_SC=0 -DVM_TIMING=0 -DVM_TRACE=0 -DVM_TRACE_FST=1 -DVM_TRACE_VCD=0 -faligned-new -fcf-protection=none -Wno-bool-operation -Wno-shadow -Wno-sign-compare -Wno-tautological-compare -Wno-uninitialized -Wno-unused-but-set-parameter -Wno-unused-but-set-variable -Wno-unused-parameter -Wno-unused-variable      -c -o verilated_threads.o /vol/bitbucket/oa321/verilator/verilator/include/verilated_threads.cpp\n",
      "ccache g++ -Os  -I.  -MMD -I/vol/bitbucket/oa321/verilator/verilator/include -I/vol/bitbucket/oa321/verilator/verilator/include/vltstd -DVM_COVERAGE=0 -DVM_SC=0 -DVM_TIMING=0 -DVM_TRACE=0 -DVM_TRACE_FST=1 -DVM_TRACE_VCD=0 -faligned-new -fcf-protection=none -Wno-bool-operation -Wno-shadow -Wno-sign-compare -Wno-tautological-compare -Wno-uninitialized -Wno-unused-but-set-parameter -Wno-unused-but-set-variable -Wno-unused-parameter -Wno-unused-variable      -x c++-header Vtop__pch.h -o Vtop__pch.h.fast.gch\n",
      "ccache g++ -Os  -I.  -MMD -I/vol/bitbucket/oa321/verilator/verilator/include -I/vol/bitbucket/oa321/verilator/verilator/include/vltstd -DVM_COVERAGE=0 -DVM_SC=0 -DVM_TIMING=0 -DVM_TRACE=0 -DVM_TRACE_FST=1 -DVM_TRACE_VCD=0 -faligned-new -fcf-protection=none -Wno-bool-operation -Wno-shadow -Wno-sign-compare -Wno-tautological-compare -Wno-uninitialized -Wno-unused-but-set-parameter -Wno-unused-but-set-variable -Wno-unused-parameter -Wno-unused-variable      -include Vtop__pch.h.fast -c -o Vtop.o Vtop.cpp\n",
      "ccache g++ -Os  -I.  -MMD -I/vol/bitbucket/oa321/verilator/verilator/include -I/vol/bitbucket/oa321/verilator/verilator/include/vltstd -DVM_COVERAGE=0 -DVM_SC=0 -DVM_TIMING=0 -DVM_TRACE=0 -DVM_TRACE_FST=1 -DVM_TRACE_VCD=0 -faligned-new -fcf-protection=none -Wno-bool-operation -Wno-shadow -Wno-sign-compare -Wno-tautological-compare -Wno-uninitialized -Wno-unused-but-set-parameter -Wno-unused-but-set-variable -Wno-unused-parameter -Wno-unused-variable      -include Vtop__pch.h.fast -c -o Vtop___024root__DepSet_h84412442__0.o Vtop___024root__DepSet_h84412442__0.cpp\n",
      "ccache g++ -Os  -I.  -MMD -I/vol/bitbucket/oa321/verilator/verilator/include -I/vol/bitbucket/oa321/verilator/verilator/include/vltstd -DVM_COVERAGE=0 -DVM_SC=0 -DVM_TIMING=0 -DVM_TRACE=0 -DVM_TRACE_FST=1 -DVM_TRACE_VCD=0 -faligned-new -fcf-protection=none -Wno-bool-operation -Wno-shadow -Wno-sign-compare -Wno-tautological-compare -Wno-uninitialized -Wno-unused-but-set-parameter -Wno-unused-but-set-variable -Wno-unused-parameter -Wno-unused-variable      -include Vtop__pch.h.fast -c -o Vtop___024root__DepSet_h84412442__1.o Vtop___024root__DepSet_h84412442__1.cpp\n",
      "ccache g++ -Os  -I.  -MMD -I/vol/bitbucket/oa321/verilator/verilator/include -I/vol/bitbucket/oa321/verilator/verilator/include/vltstd -DVM_COVERAGE=0 -DVM_SC=0 -DVM_TIMING=0 -DVM_TRACE=0 -DVM_TRACE_FST=1 -DVM_TRACE_VCD=0 -faligned-new -fcf-protection=none -Wno-bool-operation -Wno-shadow -Wno-sign-compare -Wno-tautological-compare -Wno-uninitialized -Wno-unused-but-set-parameter -Wno-unused-but-set-variable -Wno-unused-parameter -Wno-unused-variable      -include Vtop__pch.h.fast -c -o Vtop___024root__DepSet_heccd7ead__0.o Vtop___024root__DepSet_heccd7ead__0.cpp\n",
      "ccache g++ -Os  -I.  -MMD -I/vol/bitbucket/oa321/verilator/verilator/include -I/vol/bitbucket/oa321/verilator/verilator/include/vltstd -DVM_COVERAGE=0 -DVM_SC=0 -DVM_TIMING=0 -DVM_TRACE=0 -DVM_TRACE_FST=1 -DVM_TRACE_VCD=0 -faligned-new -fcf-protection=none -Wno-bool-operation -Wno-shadow -Wno-sign-compare -Wno-tautological-compare -Wno-uninitialized -Wno-unused-but-set-parameter -Wno-unused-but-set-variable -Wno-unused-parameter -Wno-unused-variable      -include Vtop__pch.h.fast -c -o Vtop_fixed_dot_product__I8_W8__DepSet_h6108f7e9__0.o Vtop_fixed_dot_product__I8_W8__DepSet_h6108f7e9__0.cpp\n",
      "ccache g++ -Os  -I.  -MMD -I/vol/bitbucket/oa321/verilator/verilator/include -I/vol/bitbucket/oa321/verilator/verilator/include/vltstd -DVM_COVERAGE=0 -DVM_SC=0 -DVM_TIMING=0 -DVM_TRACE=0 -DVM_TRACE_FST=1 -DVM_TRACE_VCD=0 -faligned-new -fcf-protection=none -Wno-bool-operation -Wno-shadow -Wno-sign-compare -Wno-tautological-compare -Wno-uninitialized -Wno-unused-but-set-parameter -Wno-unused-but-set-variable -Wno-unused-parameter -Wno-unused-variable      -include Vtop__pch.h.fast -c -o Vtop__Dpi.o Vtop__Dpi.cpp\n",
      "ccache g++ -Os  -I.  -MMD -I/vol/bitbucket/oa321/verilator/verilator/include -I/vol/bitbucket/oa321/verilator/verilator/include/vltstd -DVM_COVERAGE=0 -DVM_SC=0 -DVM_TIMING=0 -DVM_TRACE=0 -DVM_TRACE_FST=1 -DVM_TRACE_VCD=0 -faligned-new -fcf-protection=none -Wno-bool-operation -Wno-shadow -Wno-sign-compare -Wno-tautological-compare -Wno-uninitialized -Wno-unused-but-set-parameter -Wno-unused-but-set-variable -Wno-unused-parameter -Wno-unused-variable      -include Vtop__pch.h.fast -c -o Vtop__Trace__0.o Vtop__Trace__0.cpp\n",
      "ccache g++   -I.  -MMD -I/vol/bitbucket/oa321/verilator/verilator/include -I/vol/bitbucket/oa321/verilator/verilator/include/vltstd -DVM_COVERAGE=0 -DVM_SC=0 -DVM_TIMING=0 -DVM_TRACE=0 -DVM_TRACE_FST=1 -DVM_TRACE_VCD=0 -faligned-new -fcf-protection=none -Wno-bool-operation -Wno-shadow -Wno-sign-compare -Wno-tautological-compare -Wno-uninitialized -Wno-unused-but-set-parameter -Wno-unused-but-set-variable -Wno-unused-parameter -Wno-unused-variable      -x c++-header Vtop__pch.h -o Vtop__pch.h.slow.gch\n",
      "ccache g++   -I.  -MMD -I/vol/bitbucket/oa321/verilator/verilator/include -I/vol/bitbucket/oa321/verilator/verilator/include/vltstd -DVM_COVERAGE=0 -DVM_SC=0 -DVM_TIMING=0 -DVM_TRACE=0 -DVM_TRACE_FST=1 -DVM_TRACE_VCD=0 -faligned-new -fcf-protection=none -Wno-bool-operation -Wno-shadow -Wno-sign-compare -Wno-tautological-compare -Wno-uninitialized -Wno-unused-but-set-parameter -Wno-unused-but-set-variable -Wno-unused-parameter -Wno-unused-variable      -include Vtop__pch.h.slow -c -o Vtop__ConstPool_0.o Vtop__ConstPool_0.cpp\n",
      "ccache g++   -I.  -MMD -I/vol/bitbucket/oa321/verilator/verilator/include -I/vol/bitbucket/oa321/verilator/verilator/include/vltstd -DVM_COVERAGE=0 -DVM_SC=0 -DVM_TIMING=0 -DVM_TRACE=0 -DVM_TRACE_FST=1 -DVM_TRACE_VCD=0 -faligned-new -fcf-protection=none -Wno-bool-operation -Wno-shadow -Wno-sign-compare -Wno-tautological-compare -Wno-uninitialized -Wno-unused-but-set-parameter -Wno-unused-but-set-variable -Wno-unused-parameter -Wno-unused-variable      -include Vtop__pch.h.slow -c -o Vtop___024root__Slow.o Vtop___024root__Slow.cpp\n",
      "ccache g++   -I.  -MMD -I/vol/bitbucket/oa321/verilator/verilator/include -I/vol/bitbucket/oa321/verilator/verilator/include/vltstd -DVM_COVERAGE=0 -DVM_SC=0 -DVM_TIMING=0 -DVM_TRACE=0 -DVM_TRACE_FST=1 -DVM_TRACE_VCD=0 -faligned-new -fcf-protection=none -Wno-bool-operation -Wno-shadow -Wno-sign-compare -Wno-tautological-compare -Wno-uninitialized -Wno-unused-but-set-parameter -Wno-unused-but-set-variable -Wno-unused-parameter -Wno-unused-variable      -include Vtop__pch.h.slow -c -o Vtop___024root__DepSet_h84412442__0__Slow.o Vtop___024root__DepSet_h84412442__0__Slow.cpp\n",
      "ccache g++   -I.  -MMD -I/vol/bitbucket/oa321/verilator/verilator/include -I/vol/bitbucket/oa321/verilator/verilator/include/vltstd -DVM_COVERAGE=0 -DVM_SC=0 -DVM_TIMING=0 -DVM_TRACE=0 -DVM_TRACE_FST=1 -DVM_TRACE_VCD=0 -faligned-new -fcf-protection=none -Wno-bool-operation -Wno-shadow -Wno-sign-compare -Wno-tautological-compare -Wno-uninitialized -Wno-unused-but-set-parameter -Wno-unused-but-set-variable -Wno-unused-parameter -Wno-unused-variable      -include Vtop__pch.h.slow -c -o Vtop___024root__DepSet_heccd7ead__0__Slow.o Vtop___024root__DepSet_heccd7ead__0__Slow.cpp\n",
      "ccache g++   -I.  -MMD -I/vol/bitbucket/oa321/verilator/verilator/include -I/vol/bitbucket/oa321/verilator/verilator/include/vltstd -DVM_COVERAGE=0 -DVM_SC=0 -DVM_TIMING=0 -DVM_TRACE=0 -DVM_TRACE_FST=1 -DVM_TRACE_VCD=0 -faligned-new -fcf-protection=none -Wno-bool-operation -Wno-shadow -Wno-sign-compare -Wno-tautological-compare -Wno-uninitialized -Wno-unused-but-set-parameter -Wno-unused-but-set-variable -Wno-unused-parameter -Wno-unused-variable      -include Vtop__pch.h.slow -c -o Vtop_fixed_dot_product__I8_W8__Slow.o Vtop_fixed_dot_product__I8_W8__Slow.cpp\n",
      "ccache g++   -I.  -MMD -I/vol/bitbucket/oa321/verilator/verilator/include -I/vol/bitbucket/oa321/verilator/verilator/include/vltstd -DVM_COVERAGE=0 -DVM_SC=0 -DVM_TIMING=0 -DVM_TRACE=0 -DVM_TRACE_FST=1 -DVM_TRACE_VCD=0 -faligned-new -fcf-protection=none -Wno-bool-operation -Wno-shadow -Wno-sign-compare -Wno-tautological-compare -Wno-uninitialized -Wno-unused-but-set-parameter -Wno-unused-but-set-variable -Wno-unused-parameter -Wno-unused-variable      -include Vtop__pch.h.slow -c -o Vtop_fixed_dot_product__I8_W8__DepSet_h6108f7e9__0__Slow.o Vtop_fixed_dot_product__I8_W8__DepSet_h6108f7e9__0__Slow.cpp\n",
      "ccache g++   -I.  -MMD -I/vol/bitbucket/oa321/verilator/verilator/include -I/vol/bitbucket/oa321/verilator/verilator/include/vltstd -DVM_COVERAGE=0 -DVM_SC=0 -DVM_TIMING=0 -DVM_TRACE=0 -DVM_TRACE_FST=1 -DVM_TRACE_VCD=0 -faligned-new -fcf-protection=none -Wno-bool-operation -Wno-shadow -Wno-sign-compare -Wno-tautological-compare -Wno-uninitialized -Wno-unused-but-set-parameter -Wno-unused-but-set-variable -Wno-unused-parameter -Wno-unused-variable      -include Vtop__pch.h.slow -c -o Vtop__Syms.o Vtop__Syms.cpp\n",
      "ccache g++   -I.  -MMD -I/vol/bitbucket/oa321/verilator/verilator/include -I/vol/bitbucket/oa321/verilator/verilator/include/vltstd -DVM_COVERAGE=0 -DVM_SC=0 -DVM_TIMING=0 -DVM_TRACE=0 -DVM_TRACE_FST=1 -DVM_TRACE_VCD=0 -faligned-new -fcf-protection=none -Wno-bool-operation -Wno-shadow -Wno-sign-compare -Wno-tautological-compare -Wno-uninitialized -Wno-unused-but-set-parameter -Wno-unused-but-set-variable -Wno-unused-parameter -Wno-unused-variable      -include Vtop__pch.h.slow -c -o Vtop__Trace__0__Slow.o Vtop__Trace__0__Slow.cpp\n",
      "ccache g++   -I.  -MMD -I/vol/bitbucket/oa321/verilator/verilator/include -I/vol/bitbucket/oa321/verilator/verilator/include/vltstd -DVM_COVERAGE=0 -DVM_SC=0 -DVM_TIMING=0 -DVM_TRACE=0 -DVM_TRACE_FST=1 -DVM_TRACE_VCD=0 -faligned-new -fcf-protection=none -Wno-bool-operation -Wno-shadow -Wno-sign-compare -Wno-tautological-compare -Wno-uninitialized -Wno-unused-but-set-parameter -Wno-unused-but-set-variable -Wno-unused-parameter -Wno-unused-variable      -include Vtop__pch.h.slow -c -o Vtop__TraceDecls__0__Slow.o Vtop__TraceDecls__0__Slow.cpp\n",
      "echo \"\" > Vtop__ALL.verilator_deplist.tmp\n",
      "g++    verilator.o verilated.o verilated_dpi.o verilated_vpi.o verilated_fst_c.o verilated_threads.o Vtop__ALL.a   -Wl,-rpath,/vol/bitbucket/oa321/mase/venv/lib/python3.11/site-packages/cocotb/libs -L/vol/bitbucket/oa321/mase/venv/lib/python3.11/site-packages/cocotb/libs -lcocotbvpi_verilator -lz  -pthread -lpthread -latomic   -o top\n"
     ]
    },
    {
     "name": "stderr",
     "output_type": "stream",
     "text": [
      "\u001b[32mINFO    \u001b[0m \u001b[34mBuild finished. Time taken: 5.97s\u001b[0m\n"
     ]
    },
    {
     "name": "stdout",
     "output_type": "stream",
     "text": [
      "rm Vtop__ALL.verilator_deplist.tmp\n",
      "make: Leaving directory '/vol/bitbucket/oa321/mase/tasks/tutorial_hw/sim_build'\n",
      "INFO: Running command /vol/bitbucket/oa321/mase/tasks/tutorial_hw/sim_build/top in directory /vol/bitbucket/oa321/mase/tasks/tutorial_hw/sim_build\n",
      "     -.--ns INFO     gpi                                ..mbed/gpi_embed.cpp:108  in set_program_name_in_venv        Using Python virtual environment interpreter at /vol/bitbucket/oa321/mase/venv/bin/python\n",
      "     -.--ns INFO     gpi                                ../gpi/GpiCommon.cpp:101  in gpi_print_registered_impl       VPI registered\n",
      "     0.00ns INFO     cocotb                             Running on Verilator version 5.032 2025-01-01\n",
      "     0.00ns INFO     cocotb                             Running tests with cocotb v1.9.0 from /vol/bitbucket/oa321/mase/venv/lib/python3.11/site-packages/cocotb\n",
      "     0.00ns INFO     cocotb                             Seeding Python random module with 1738621943\n",
      "     0.00ns INFO     cocotb.regression                  Found test mase_top_tb.test.test\n",
      "     0.00ns INFO     cocotb.regression                  running test (1/1)\n",
      "2000020.00ns INFO     cocotb.regression                  test failed\n",
      "                                                         Traceback (most recent call last):\n",
      "                                                           File \"/homes/oa321/.mase/top/hardware/test/mase_top_tb/test.py\", line 22, in test\n",
      "                                                             await tb.wait_end(timeout=2, timeout_unit=\"ms\")\n",
      "                                                           File \"/vol/bitbucket/oa321/mase/src/mase_cocotb/testbench.py\", line 76, in wait_end\n",
      "                                                             raise TimeoutError(\"Timed out waiting for test to end.\")\n",
      "                                                         TimeoutError: Timed out waiting for test to end.\n",
      "2000020.00ns INFO     cocotb.regression                  **************************************************************************************\n",
      "                                                         ** TEST                          STATUS  SIM TIME (ns)  REAL TIME (s)  RATIO (ns/s) **\n",
      "                                                         **************************************************************************************\n",
      "                                                         ** mase_top_tb.test.test          FAIL     2000020.00          25.64      77992.29  **\n",
      "                                                         **************************************************************************************\n",
      "                                                         ** TESTS=1 PASS=0 FAIL=1 SKIP=0            2000020.00          26.54      75352.16  **\n",
      "                                                         **************************************************************************************\n",
      "                                                         \n"
     ]
    },
    {
     "name": "stderr",
     "output_type": "stream",
     "text": [
      "/homes/oa321/usr/lib/python3.11/tempfile.py:934: ResourceWarning: Implicitly cleaning up <TemporaryDirectory '/tmp/tmp8j1yfs2r'>\n",
      "  _warnings.warn(warn_message, ResourceWarning)\n",
      "\u001b[32mINFO    \u001b[0m \u001b[34mTest finished. Time taken: 28.05s\u001b[0m\n"
     ]
    },
    {
     "name": "stdout",
     "output_type": "stream",
     "text": [
      "- :0: Verilog $finish\n",
      "INFO: Results file: /vol/bitbucket/oa321/mase/tasks/tutorial_hw/sim_build/results.xml\n"
     ]
    },
    {
     "name": "stderr",
     "output_type": "stream",
     "text": [
      "No traceback available to show.\n"
     ]
    }
   ],
   "source": [
    "from chop.actions import simulate\n",
    "\n",
    "simulate(skip_build=False, skip_test=False)\n",
    "%tb"
   ]
  }
 ],
 "metadata": {
  "kernelspec": {
   "display_name": "venv",
   "language": "python",
   "name": "python3"
  },
  "language_info": {
   "codemirror_mode": {
    "name": "ipython",
    "version": 3
   },
   "file_extension": ".py",
   "mimetype": "text/x-python",
   "name": "python",
   "nbconvert_exporter": "python",
   "pygments_lexer": "ipython3",
   "version": "3.11.11"
  }
 },
 "nbformat": 4,
 "nbformat_minor": 2
}
